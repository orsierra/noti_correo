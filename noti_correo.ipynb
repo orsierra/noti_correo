{
 "cells": [
  {
   "cell_type": "markdown",
   "id": "c6753673",
   "metadata": {},
   "source": [
    "# Aplicación de envío rápido de correos. 📧📧📧📨"
   ]
  },
  {
   "cell_type": "markdown",
   "id": "d8c21581",
   "metadata": {},
   "source": [
    "### Conexión con la base de datos PostGreSQL"
   ]
  },
  {
   "cell_type": "code",
   "execution_count": null,
   "id": "7bfda0e1",
   "metadata": {},
   "outputs": [],
   "source": []
  },
  {
   "cell_type": "markdown",
   "id": "55c8fd5f",
   "metadata": {},
   "source": [
    "### Filtros y estructura del mensaje."
   ]
  },
  {
   "cell_type": "code",
   "execution_count": null,
   "id": "02a7238c",
   "metadata": {},
   "outputs": [],
   "source": []
  },
  {
   "cell_type": "markdown",
   "id": "bafd1006",
   "metadata": {},
   "source": [
    "### Configuración con correos electrónicos"
   ]
  }
 ],
 "metadata": {
  "language_info": {
   "name": "python"
  }
 },
 "nbformat": 4,
 "nbformat_minor": 5
}
