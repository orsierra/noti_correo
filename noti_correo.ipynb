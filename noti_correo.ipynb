{
 "cells": [
  {
   "cell_type": "markdown",
   "id": "c6753673",
   "metadata": {},
   "source": [
    "# Aplicación de envío rápido de correos. 📧📧📧📨"
   ]
  },
  {
   "cell_type": "markdown",
   "id": "d8c21581",
   "metadata": {},
   "source": [
    "### Conexión con la base de datos PostGreSQL"
   ]
  },
  {
   "cell_type": "code",
   "execution_count": 8,
   "id": "472df624",
   "metadata": {},
   "outputs": [],
   "source": [
    "import credenciales\n",
    "#Librerias e Inicio de variables\n",
    "import pandas as pd\n",
    "import numpy as np\n",
    "import matplotlib.pyplot as plt\n",
    "import psycopg2\n",
    "import sys, os\n",
    "import datetime as dt"
   ]
  },
  {
   "cell_type": "code",
   "execution_count": 10,
   "id": "ddeada12",
   "metadata": {},
   "outputs": [
    {
     "name": "stdout",
     "output_type": "stream",
     "text": [
      "c:\\Users\\Jreyesm\\Desktop\\noti_correo\\credenciales.py\n"
     ]
    }
   ],
   "source": [
    "print(credenciales.__file__)\n"
   ]
  },
  {
   "cell_type": "code",
   "execution_count": 9,
   "id": "7bfda0e1",
   "metadata": {},
   "outputs": [
    {
     "ename": "AttributeError",
     "evalue": "module 'credenciales' has no attribute 'HOST'",
     "output_type": "error",
     "traceback": [
      "\u001b[31m---------------------------------------------------------------------------\u001b[39m",
      "\u001b[31mAttributeError\u001b[39m                            Traceback (most recent call last)",
      "\u001b[36mCell\u001b[39m\u001b[36m \u001b[39m\u001b[32mIn[9]\u001b[39m\u001b[32m, line 3\u001b[39m\n\u001b[32m      1\u001b[39m \u001b[38;5;66;03m# CONEXION BASE DE DATOS\u001b[39;00m\n\u001b[32m      2\u001b[39m conn = psycopg2.connect(\n\u001b[32m----> \u001b[39m\u001b[32m3\u001b[39m       host=\u001b[43mcredenciales\u001b[49m\u001b[43m.\u001b[49m\u001b[43mHOST\u001b[49m,\n\u001b[32m      4\u001b[39m       port=credenciales.PORT,\n\u001b[32m      5\u001b[39m       database=credenciales.DATA_BASE,\n\u001b[32m      6\u001b[39m       user=credenciales.USER,\n\u001b[32m      7\u001b[39m       password=credenciales.PASSWORD\n\u001b[32m      8\u001b[39m )\n",
      "\u001b[31mAttributeError\u001b[39m: module 'credenciales' has no attribute 'HOST'"
     ]
    }
   ],
   "source": [
    "# CONEXION BASE DE DATOS\n",
    "conn = psycopg2.connect(\n",
    "      host=credenciales.HOST,\n",
    "      port=credenciales.PORT,\n",
    "      database=credenciales.DATA_BASE,\n",
    "      user=credenciales.USER,\n",
    "      password=credenciales.PASSWORD\n",
    ")\n"
   ]
  },
  {
   "cell_type": "code",
   "execution_count": null,
   "id": "0abbcf3c",
   "metadata": {},
   "outputs": [],
   "source": [
    "# Consulta SQL\n",
    "sql4 = '''\n",
    "WITH DatosOrdenados AS (\n",
    "  SELECT\n",
    "    c.idexcel, \n",
    "    c.nombreexcel,\n",
    "    e.nomempresa AS nom_empresa,\n",
    "    t.sigla_terminal AS nom_terminal,\n",
    "    s2.idtipo,\n",
    "    TO_CHAR(s.finicio, 'YYYYMM') AS fechasol,\n",
    "    c.created_at,\n",
    "    ROW_NUMBER() OVER(\n",
    "      PARTITION BY e.nomempresa, t.sigla_terminal, s2.idtipo, TO_CHAR(s.finicio, 'YYYYMM') \n",
    "      ORDER BY c.created_at\n",
    "    ) AS rn\n",
    "  FROM db_sielp.api.cargaexcel c\n",
    "  INNER JOIN db_sielp.api.historialsolicitud h ON h.idexcel = c.idexcel\n",
    "  INNER JOIN db_sielp.api.solempresas s ON s.id = h.idsolicitudempresa\n",
    "  INNER JOIN db_sielp.api.solicitudes s2 ON s.idsolicitud = s2.id\n",
    "  INNER JOIN db_sielp.api.empresas e ON e.id = s.idempresa\n",
    "  INNER JOIN db_sielp.api.terminales t ON t.id_terminal = s.idterminal\n",
    "  WHERE\n",
    "   s.finicio  BETWEEN  %(start_date_q4)s AND %(end_date_q4)s\n",
    ")\n",
    "select\n",
    "\td.*,\n",
    "    p.*\n",
    "FROM \n",
    "    DatosOrdenados d\n",
    "JOIN \n",
    "    db_sielp.api.cargaexceltmp tmp ON tmp.idexcel = d.idexcel\n",
    "CROSS JOIN LATERAL\n",
    "jsonb_to_record(tmp.data::jsonb) AS p(\n",
    "    id text,\n",
    "    terminal text,\n",
    "    largo_muelle text, -- Campo adicional único del segundo objeto JSON\n",
    "    largo_lap text,\n",
    "    gruas_portico text, -- Campo adicional único del segundo objeto JSON\n",
    "    enchufes_reefer_fijos text,\n",
    "    enchufes_reefer_moviles text,\n",
    "    area_total text,\n",
    "    area_contenedor text,\n",
    "    area_fraccionada text,\n",
    "    area_granel_solido text,\n",
    "    area_extension text,\n",
    "    calado_maximo text,\n",
    "    observaciones text\n",
    "    )\n",
    "WHERE \n",
    "    d.rn = 1 \n",
    "    AND d.idtipo in (12,4,18)\n",
    "    AND p.terminal = %(current_terminal)s\n",
    " \n",
    "\n",
    "\n",
    "'''\n",
    "\n",
    "dfi1 = pd.read_sql_query(sql4, conn, params=params)\n",
    "dfi1 = dfi1.iloc[:, 8:]\n",
    "conn.close()"
   ]
  },
  {
   "cell_type": "markdown",
   "id": "55c8fd5f",
   "metadata": {},
   "source": [
    "### Filtros y estructura del mensaje."
   ]
  },
  {
   "cell_type": "code",
   "execution_count": null,
   "id": "02a7238c",
   "metadata": {},
   "outputs": [],
   "source": []
  },
  {
   "cell_type": "markdown",
   "id": "bafd1006",
   "metadata": {},
   "source": [
    "### Configuración con correos electrónicos"
   ]
  }
 ],
 "metadata": {
  "kernelspec": {
   "display_name": "Validador_SIELP",
   "language": "python",
   "name": "python3"
  },
  "language_info": {
   "codemirror_mode": {
    "name": "ipython",
    "version": 3
   },
   "file_extension": ".py",
   "mimetype": "text/x-python",
   "name": "python",
   "nbconvert_exporter": "python",
   "pygments_lexer": "ipython3",
   "version": "3.12.9"
  }
 },
 "nbformat": 4,
 "nbformat_minor": 5
}
