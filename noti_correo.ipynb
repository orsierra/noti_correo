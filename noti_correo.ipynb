{
 "cells": [
  {
   "cell_type": "markdown",
   "id": "c6753673",
   "metadata": {},
   "source": [
    "# Aplicación de envío rápido de correos. 📧📧📧📨"
   ]
  },
  {
   "cell_type": "markdown",
   "id": "d8c21581",
   "metadata": {},
   "source": [
    "### Conexión con la base de datos PostGreSQL 🐘"
   ]
  },
  {
   "cell_type": "code",
   "execution_count": 27,
   "id": "472df624",
   "metadata": {},
   "outputs": [],
   "source": [
    "from dotenv import load_dotenv\n",
    "import os\n",
    "import pandas as pd\n",
    "import numpy as np\n",
    "import matplotlib.pyplot as plt\n",
    "import psycopg2\n",
    "import sys, os\n",
    "import datetime as dt\n",
    "\n"
   ]
  },
  {
   "cell_type": "code",
   "execution_count": 19,
   "id": "fabdeb44",
   "metadata": {},
   "outputs": [],
   "source": [
    "# Obtener credenciales del entorno\n",
    "DB_HOST = os.getenv('DB_HOST')\n",
    "DB_PORT = os.getenv('DB_PORT') # psycopg2 maneja el string del puerto\n",
    "DB_DATABASE = os.getenv('DB_DATABASE')\n",
    "DB_USER = os.getenv('DB_USER')\n",
    "DB_PASSWORD = os.getenv('DB_PASSWORD')"
   ]
  },
  {
   "cell_type": "code",
   "execution_count": 20,
   "id": "d28b7b94",
   "metadata": {},
   "outputs": [
    {
     "name": "stdout",
     "output_type": "stream",
     "text": [
      "Intentando conectar a la base de datos...\n",
      "¡Conexión a la base de datos establecida correctamente!\n",
      "\n",
      "--- Consulta SQL cargada ---\n",
      "SELECT h.* FROM api.historialsolicitud AS h\n",
      "---------------------------\n",
      "\n",
      "Ejecutando la consulta...\n"
     ]
    },
    {
     "name": "stderr",
     "output_type": "stream",
     "text": [
      "C:\\Users\\Jreyesm\\AppData\\Local\\Temp\\ipykernel_22808\\2079815226.py:45: UserWarning: pandas only supports SQLAlchemy connectable (engine/connection) or database string URI or sqlite3 DBAPI2 connection. Other DBAPI2 objects are not tested. Please consider using SQLAlchemy.\n",
      "  dfi1 = pd.read_sql_query(Query, conn)\n"
     ]
    },
    {
     "name": "stdout",
     "output_type": "stream",
     "text": [
      "Cursor cerrado.\n",
      "Conexión a la base de datos cerrada.\n"
     ]
    }
   ],
   "source": [
    "# --- Función para cargar la consulta SQL desde un archivo ---\n",
    "def load_sql_query(query_filename, query_dir='sql_queries'):\n",
    "   \n",
    "    current_dir = os.getcwd()\n",
    "    query_path = os.path.join(current_dir, query_dir, query_filename)\n",
    "\n",
    "    try:\n",
    "        with open(query_path, 'r', encoding='utf-8') as file:\n",
    "            sql_query = file.read()\n",
    "        return sql_query\n",
    "    except FileNotFoundError:\n",
    "        print(f\"Error: El archivo de consulta '{query_path}' no se encontró.\")\n",
    "        return None\n",
    "    except Exception as e:\n",
    "        print(f\"Error al leer el archivo de consulta '{query_path}': {e}\")\n",
    "        return None\n",
    "\n",
    "conn = None\n",
    "cur = None\n",
    "\n",
    "try:\n",
    "    # 1. Establecer la conexión a la base de datos\n",
    "    print(\"Intentando conectar a la base de datos...\")\n",
    "    conn = psycopg2.connect(\n",
    "        host=DB_HOST,\n",
    "        port=DB_PORT,\n",
    "        database=DB_DATABASE,\n",
    "        user=DB_USER,\n",
    "        password=DB_PASSWORD\n",
    "    )\n",
    "    cur = conn.cursor()\n",
    "    print(\"¡Conexión a la base de datos establecida correctamente!\")\n",
    "\n",
    "    # 2. Cargar la consulta SQL desde el archivo\n",
    "    Query = load_sql_query('historialsolicitud.sql')\n",
    "\n",
    "    if Query:\n",
    "        print(\"\\n--- Consulta SQL cargada ---\")\n",
    "        print(Query)\n",
    "        print(\"---------------------------\\n\")\n",
    "\n",
    "        # 3. Ejecutar la consulta\n",
    "        print(\"Ejecutando la consulta...\")\n",
    "        cur.execute(Query)\n",
    "        dfi1 = pd.read_sql_query(Query, conn)\n",
    "except psycopg2.Error as e:\n",
    "    print(f\"\\n¡Error de base de datos! Detalles: {e}\")\n",
    "    print(\"Asegúrate de que la base de datos esté corriendo y tus credenciales sean correctas.\")\n",
    "except Exception as e:\n",
    "    print(f\"\\n¡Ocurrió un error inesperado! Detalles: {e}\")\n",
    "finally:\n",
    "    # Asegúrate de cerrar el cursor y la conexión\n",
    "    if cur:\n",
    "        cur.close()\n",
    "        print(\"Cursor cerrado.\")\n",
    "    if conn:\n",
    "        conn.close()\n",
    "        print(\"Conexión a la base de datos cerrada.\")"
   ]
  },
  {
   "cell_type": "markdown",
   "id": "556a664e",
   "metadata": {},
   "source": [
    "### Carga Hojas de Calculo 📊"
   ]
  },
  {
   "cell_type": "code",
   "execution_count": 46,
   "id": "44d83e04",
   "metadata": {},
   "outputs": [
    {
     "name": "stdout",
     "output_type": "stream",
     "text": [
      "Hoja 'Eventos SIELP' de 'xlsx_files\\Eventos_SIELP.xlsx' cargada en DataFrame.\n"
     ]
    }
   ],
   "source": [
    "file_path = r'xlsx_files\\Eventos_SIELP.xlsx' \n",
    "sheet_name = 'Eventos SIELP' \n",
    "\n",
    "df = None \n",
    "\n",
    "if os.path.exists(file_path):\n",
    "    try:\n",
    "        df = pd.read_excel(file_path, sheet_name=sheet_name)\n",
    "        print(f\"Hoja '{sheet_name}' de '{file_path}' cargada en DataFrame.\")\n",
    "    except Exception as e:\n",
    "        print(f\"Error al cargar Excel: {e}\")\n",
    "else:\n",
    "    print(f\"Error: Archivo no encontrado en '{file_path}'\")\n"
   ]
  },
  {
   "cell_type": "markdown",
   "id": "55c8fd5f",
   "metadata": {},
   "source": [
    "### Filtros y estructura del mensaje."
   ]
  },
  {
   "cell_type": "code",
   "execution_count": null,
   "id": "02a7238c",
   "metadata": {},
   "outputs": [],
   "source": []
  },
  {
   "cell_type": "markdown",
   "id": "bafd1006",
   "metadata": {},
   "source": [
    "### Configuración con correos electrónicos"
   ]
  }
 ],
 "metadata": {
  "kernelspec": {
   "display_name": "Validador_SIELP",
   "language": "python",
   "name": "python3"
  },
  "language_info": {
   "codemirror_mode": {
    "name": "ipython",
    "version": 3
   },
   "file_extension": ".py",
   "mimetype": "text/x-python",
   "name": "python",
   "nbconvert_exporter": "python",
   "pygments_lexer": "ipython3",
   "version": "3.12.9"
  }
 },
 "nbformat": 4,
 "nbformat_minor": 5
}
